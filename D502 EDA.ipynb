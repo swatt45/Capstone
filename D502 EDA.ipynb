{
 "cells": [
  {
   "cell_type": "code",
   "execution_count": null,
   "id": "9eb7e730-1700-4cd2-a22a-6c6dede7efab",
   "metadata": {},
   "outputs": [],
   "source": [
    "!pip install matplotlib\n",
    "!pip install numpy\n",
    "!pip install pandas\n",
    "!pip install -U scikit-learn\n",
    "!pip install ipympl\n",
    "!pip install seaborn\n",
    "!pip install pyarrow\n",
    "!pip install scipy\n",
    "!pip install duckdb\n",
    "!pip install polars"
   ]
  },
  {
   "cell_type": "code",
   "execution_count": null,
   "id": "0e8566f3-812f-4312-b1b6-50feea152c6a",
   "metadata": {},
   "outputs": [],
   "source": [
    "%matplotlib inline\n",
    "import pandas as pd\n",
    "import numpy as np\n",
    "from sklearn.cluster import MiniBatchKMeans\n",
    "from sklearn.linear_model import LogisticRegression\n",
    "from sklearn.metrics import silhouette_samples, silhouette_score\n",
    "from sklearn.model_selection import train_test_split\n",
    "from sklearn.preprocessing import StandardScaler\n",
    "import seaborn as sns\n",
    "from matplotlib import pyplot as plt\n",
    "import matplotlib.cm as cm\n",
    "import json\n",
    "from scipy.stats import bootstrap\n",
    "import scipy.stats as stats\n",
    "import polars as pl\n",
    "import duckdb\n",
    "#pd.options.display.float_format = '{:,.0f}'.format"
   ]
  },
  {
   "cell_type": "code",
   "execution_count": null,
   "id": "0f238a7f-d649-412f-aeb2-052a5126bb28",
   "metadata": {},
   "outputs": [],
   "source": [
    "# dfreco = pd.read_csv(\"recommendations.csv\")\n",
    "# dfreco.to_parquet(\"recommendations.parquet\")"
   ]
  },
  {
   "cell_type": "code",
   "execution_count": null,
   "id": "959effa2-1bea-41ea-85c3-ed16b828f368",
   "metadata": {},
   "outputs": [],
   "source": [
    "dfreco = pl.read_parquet(\"recommendations.parquet\")\n",
    "#dfgame = pd.read_csv(\"games.csv\")\n",
    "#dfuser = pd.read_csv(\"users.csv\")\n",
    "#dfmeta = pd.read_json('games_metadata.json', lines=False)"
   ]
  },
  {
   "cell_type": "code",
   "execution_count": null,
   "id": "557fedda-ac6e-43ed-a799-c6b6814cdcf8",
   "metadata": {},
   "outputs": [],
   "source": [
    "\n",
    "dfreco.dtypes"
   ]
  },
  {
   "cell_type": "code",
   "execution_count": null,
   "id": "8ecdfb2e-09c9-4eff-9935-c1c0c8ccc9b2",
   "metadata": {},
   "outputs": [],
   "source": [
    "def create_box_and_hist(data, column):\n",
    "    fig, (ax_hist, ax_box) = plt.subplots(2, figsize=(4, 4), gridspec_kw={\"height_ratios\": (.85, .15)})\n",
    "    ax_hist.hist(data[column], bins=20, color='skyblue', edgecolor='black')\n",
    "    ax_hist.set_title('Histogram')\n",
    "    ax_hist.set_xlabel(f'# {column}')\n",
    "    ax_box.boxplot(data[column], vert=False, widths=0.7, patch_artist=True, boxprops=dict(facecolor='orange'))\n",
    "    ax_box.set_xticks([])\n",
    "    ax_box.set_yticks([])\n",
    "    plt.tight_layout()\n",
    "    plt.show()\n",
    "\n",
    "def boot(data, column, stat, stat_label):\n",
    "    rnd = 42\n",
    "    res = bootstrap((data[column].values,), stat, confidence_level=0.9,\n",
    "                    random_state=rnd, batch=1)\n",
    "    fig, ax = plt.subplots()\n",
    "    ax.hist(res.bootstrap_distribution, bins=25)\n",
    "    ax.set_title('Bootstrap Distribution')\n",
    "    ax.set_xlabel(stat_label)\n",
    "    ax.set_ylabel('frequency')\n",
    "    plt.show()\n",
    "    return res"
   ]
  },
  {
   "cell_type": "code",
   "execution_count": null,
   "id": "f918404f-7ee4-4545-abc6-0c079fc85372",
   "metadata": {},
   "outputs": [],
   "source": [
    "# load our users\n",
    "dfuser = pd.read_csv(\"users.csv\")\n",
    "dfuser.set_index('user_id')\n",
    "dfuser.info()"
   ]
  },
  {
   "cell_type": "code",
   "execution_count": null,
   "id": "426639a4-1e78-44bd-bdac-c187d702bf05",
   "metadata": {},
   "outputs": [],
   "source": [
    "query = \"\"\"SELECT\n",
    "\tr1.user_id,\n",
    "\tCOUNT(r2.user_id) as reviewed_on_after,\n",
    "\tCOUNT(case when r1.is_recommended = 1 then r1.app_id else NULL end) as games_recommended,\n",
    "\tCOUNT(case when r1.is_recommended = 0 then r1.app_id else NULL end) as games_not_recommended,\n",
    "\tCOUNT(case when r1.is_recommended = r2.is_recommended then r2.user_id else NULL end) as agreed_with,\n",
    "\tCOUNT(case when r1.is_recommended <> r2.is_recommended then r2.user_id else NULL end) as disagreed_with\n",
    "FROM \n",
    "\tdfreco r1\n",
    "\tJOIN dfreco r2 ON r2.app_id = r1.app_id\n",
    "WHERE \n",
    "  1=1\n",
    "  AND r2.date >= r1.date\n",
    "GROUP BY \n",
    "\tr1.user_id\"\"\"\n",
    "\n",
    "\n",
    "\n",
    "with pl.SQLContext(register_globals=True, eager_execution=True) as ctx:\n",
    "    df_small = ctx.execute(query)\n",
    "    df_small.to_pandas().info()"
   ]
  },
  {
   "cell_type": "code",
   "execution_count": null,
   "id": "441a6fc3-9ea6-48b2-8f7c-ff82953ea6c4",
   "metadata": {},
   "outputs": [],
   "source": [
    "query = \"\"\"SELECT\n",
    "\tr1.user_id,\n",
    "\tCOUNT(r2.user_id) as reviewed_on_after,\n",
    "\tCOUNT(case when r1.is_recommended = 1 then r1.app_id else NULL end) as games_recommended,\n",
    "\tCOUNT(case when r1.is_recommended = 0 then r1.app_id else NULL end) as games_not_recommended,\n",
    "\tCOUNT(case when r1.is_recommended = r2.is_recommended then r2.user_id else NULL end) as agreed_with,\n",
    "\tCOUNT(case when r1.is_recommended <> r2.is_recommended then r2.user_id else NULL end) as disagreed_with\n",
    "FROM \n",
    "\tdfreco r1\n",
    "\tJOIN dfreco r2 ON r2.app_id = r1.app_id\n",
    "WHERE \n",
    "  1=1\n",
    "  AND r1.user_id <> r2.user_id\n",
    "  AND r2.date >= r1.date\n",
    "GROUP BY \n",
    "\tr1.user_id\"\"\"\n",
    "\n",
    "mined_recommendations = duckdb.sql(query).to_df()\n",
    "\n"
   ]
  },
  {
   "cell_type": "code",
   "execution_count": null,
   "id": "04939743-11e1-44dd-9945-bfaed50651b7",
   "metadata": {},
   "outputs": [],
   "source": [
    "mined_recommendations"
   ]
  },
  {
   "cell_type": "code",
   "execution_count": null,
   "id": "f0fbfa8d-322c-4f26-a0e3-36b4de8187b3",
   "metadata": {},
   "outputs": [],
   "source": [
    "stats.probplot(np.log(dfuser.reviews.values+1), plot=plt)\n",
    "plt.title('Q-Q Plot of Log-Transformed Data')\n",
    "plt.show()"
   ]
  },
  {
   "cell_type": "code",
   "execution_count": null,
   "id": "6740334b-70a9-499c-82b8-d12e4a2e872f",
   "metadata": {},
   "outputs": [],
   "source": [
    "from scipy.stats import shapiro\n",
    "\n",
    "stat, p_value = shapiro(np.log(dfuser.reviews.values+1))\n",
    "print('Shapiro-Wilk Test Statistic:', stat)\n",
    "print('p-value:', p_value)"
   ]
  },
  {
   "cell_type": "code",
   "execution_count": null,
   "id": "75f67aac-f1f9-4214-8e48-526af7b81966",
   "metadata": {},
   "outputs": [],
   "source": [
    "from scipy.stats import kstest\n",
    "\n",
    "# Define the log-normal CDF function with the estimated parameters\n",
    "shape, loc, scale = stats.lognorm.fit(dfuser.reviews.values+1, floc=0)\n",
    "cdf = lambda x: stats.lognorm.cdf(x, shape, loc, scale)\n",
    "\n",
    "stat, p_value = kstest(dfuser.reviews.values+1, cdf)\n",
    "print('Kolmogorov-Smirnov Test Statistic:', stat)\n",
    "print('p-value:', p_value)"
   ]
  },
  {
   "cell_type": "code",
   "execution_count": null,
   "id": "fede2b7b-761a-4a01-9154-f848b615a92e",
   "metadata": {},
   "outputs": [],
   "source": [
    "from scipy.stats import anderson\n",
    "\n",
    "result = anderson(np.log(dfuser.reviews.values+1), dist='norm')\n",
    "print('Anderson-Darling Test Statistic:', result.statistic)\n",
    "print('Critical Values:', result.critical_values)"
   ]
  },
  {
   "cell_type": "code",
   "execution_count": null,
   "id": "1ff21848-f5d3-4f0f-933b-0c90531421cc",
   "metadata": {},
   "outputs": [],
   "source": [
    "import numpy as np\n",
    "import matplotlib.pyplot as plt\n",
    "from scipy.stats import lognorm, chisquare\n",
    "\n",
    "data = np.log(dfuser[dfuser.reviews>0].reviews.values)\n",
    "# Assuming 'data' is your dataset\n",
    "#data = np.random.lognormal(mean=0, sigma=1, size=1000)  # Example data\n",
    "\n",
    "# Step 1: Calculate observed frequencies\n",
    "observed_freq, bins = np.histogram(data, bins='auto', density=True)\n",
    "bin_centers = (bins[:-1] + bins[1:]) / 2\n",
    "\n",
    "# Step 2: Calculate expected frequencies based on log-normal distribution\n",
    "shape, loc, scale = lognorm.fit(data, floc=0)\n",
    "expected_freq = lognorm.pdf(bin_centers, shape, loc, scale) * np.diff(bins)\n",
    "\n",
    "# Step 3: Scale expected frequencies to match the sum of observed frequencies\n",
    "expected_freq_scaled = expected_freq * sum(observed_freq) / sum(expected_freq)\n",
    "\n",
    "# Step 4: Perform the chi-square test\n",
    "chi2_stat, p_value = chisquare(f_obs=observed_freq, f_exp=expected_freq_scaled)\n",
    "\n",
    "print('Chi-Square Test Statistic:', chi2_stat)\n",
    "print('p-value:', p_value)\n",
    "\n",
    "# Optional: Plot histogram and PDF\n",
    "plt.hist(data, bins=bins, density=True, alpha=0.6, color='g', label='Observed Data')\n",
    "plt.plot(bin_centers, expected_freq, 'r--', linewidth=2, label='Expected Log-normal PDF')\n",
    "plt.xlabel('Data')\n",
    "plt.ylabel('Density')\n",
    "plt.legend()\n",
    "plt.title('Histogram and Expected Log-normal PDF')\n",
    "plt.show()\n"
   ]
  },
  {
   "cell_type": "code",
   "execution_count": null,
   "id": "b10e84e0-ab61-40b7-a3cc-b6976490eb23",
   "metadata": {},
   "outputs": [],
   "source": [
    "create_box_and_hist(dfuser, 'reviews')"
   ]
  },
  {
   "cell_type": "code",
   "execution_count": null,
   "id": "d0e84f81-3da2-46ed-b1f1-269e0f1a14cf",
   "metadata": {},
   "outputs": [],
   "source": [
    "df_high_reviews = dfuser[dfuser.reviews >= np.percentile(dfuser.reviews.values, 99)]"
   ]
  },
  {
   "cell_type": "code",
   "execution_count": null,
   "id": "e7c06705-3e4e-466f-8267-3b836f504f5f",
   "metadata": {},
   "outputs": [],
   "source": [
    "create_box_and_hist(df_high_reviews, 'reviews')"
   ]
  },
  {
   "cell_type": "code",
   "execution_count": null,
   "id": "8922b5c8-d15f-4bf0-b180-012df8c806de",
   "metadata": {},
   "outputs": [],
   "source": [
    "# plot users bootstrap \n",
    "pd.plotting.bootstrap_plot(df_high_reviews.drop('products', axis=1).reviews, size=100000)\n",
    "plt.show()"
   ]
  },
  {
   "cell_type": "code",
   "execution_count": null,
   "id": "f01f669b-dcc8-41fb-8801-e279ac076225",
   "metadata": {},
   "outputs": [],
   "source": [
    "mean_stats = boot(df_high_reviews, 'reviews', np.mean, 'mean')\n",
    "std_stats = boot(df_high_reviews, 'reviews', np.std, 'standard deviation')"
   ]
  },
  {
   "cell_type": "code",
   "execution_count": null,
   "id": "de88040c-5258-49e4-8ebf-e4df401071de",
   "metadata": {},
   "outputs": [],
   "source": [
    "[mean_stats.confidence_interval.low, mean_stats.bootstrap_distribution.mean(), mean_stats.confidence_interval.high]"
   ]
  },
  {
   "cell_type": "code",
   "execution_count": null,
   "id": "72a1fdb2-364e-4f86-9ba4-315aa84f2bc8",
   "metadata": {},
   "outputs": [],
   "source": [
    "high = np.percentile(df_high_reviews.reviews.values, 99)\n",
    "low = np.percentile(df_high_reviews.reviews.values, 1)\n",
    "\n",
    "df_users_clean = df_high_reviews[(df_high_reviews.reviews <= high)&(df_high_reviews.reviews >= low)]\n",
    "create_box_and_hist(df_users_clean, 'reviews')\n",
    "\n"
   ]
  },
  {
   "cell_type": "code",
   "execution_count": null,
   "id": "d4d562ea-817d-4022-9ea8-9ce6090bad5a",
   "metadata": {},
   "outputs": [],
   "source": [
    "mean_stats.standard_error"
   ]
  },
  {
   "cell_type": "code",
   "execution_count": null,
   "id": "3384e8d4-8c9c-421c-8b07-6706290e04a1",
   "metadata": {},
   "outputs": [],
   "source": [
    "# plot users bootstrap \n",
    "pd.plotting.bootstrap_plot(df_high_reviews.drop('products', axis=1).reviews, size=100000)"
   ]
  },
  {
   "cell_type": "code",
   "execution_count": null,
   "id": "5d5e6852-b85f-4d4f-ac68-5c06b04ccf67",
   "metadata": {},
   "outputs": [],
   "source": [
    "np.percentile(dfuser.reviews,99)"
   ]
  },
  {
   "cell_type": "code",
   "execution_count": null,
   "id": "bcd12d75-86ad-4fa4-ac67-5d7829b059cf",
   "metadata": {},
   "outputs": [],
   "source": [
    "big_users = dfuser[dfuser.reviews>=24]\n",
    "big_users.boxplot('reviews')"
   ]
  },
  {
   "cell_type": "code",
   "execution_count": null,
   "id": "c9b7cbc6-55f7-489b-9aa8-6c1fd17ec133",
   "metadata": {},
   "outputs": [],
   "source": [
    "pd.plotting.bootstrap_plot(big_users.reviews, size=100000)"
   ]
  },
  {
   "cell_type": "code",
   "execution_count": null,
   "id": "da1c6375-7bbe-4a55-b7e5-7bc538014fcd",
   "metadata": {},
   "outputs": [],
   "source": [
    "dfuser.std_reviews.mean()"
   ]
  },
  {
   "cell_type": "code",
   "execution_count": null,
   "id": "36a87c3f-c365-4a66-baf3-907e08f3f9f6",
   "metadata": {},
   "outputs": [],
   "source": [
    "dfuser.reviews.hist()"
   ]
  },
  {
   "cell_type": "code",
   "execution_count": null,
   "id": "1100db27-74dd-4e12-bf72-f05bc5e7d7ff",
   "metadata": {},
   "outputs": [],
   "source": []
  },
  {
   "cell_type": "code",
   "execution_count": null,
   "id": "bc5dd70f-3dff-4e0a-b4f1-a310c3cb697c",
   "metadata": {},
   "outputs": [],
   "source": [
    "limited = dfuser[dfuser.reviews > 500]\n",
    "\n",
    "limited.norm_reviews.hist()\n"
   ]
  },
  {
   "cell_type": "code",
   "execution_count": null,
   "id": "71ec483a-5914-4a15-8f38-fd96e361ecda",
   "metadata": {},
   "outputs": [],
   "source": [
    "(1.5*dfuser.reviews.quantile(0.95)-dfuser.reviews.quantile(0.10))+dfuser.reviews.quantile(0.95)"
   ]
  },
  {
   "cell_type": "code",
   "execution_count": null,
   "id": "14252fc1-9029-42db-9818-d3f47c18ebc8",
   "metadata": {},
   "outputs": [],
   "source": [
    "len(dfuser[dfuser.reviews > 21.5])"
   ]
  },
  {
   "cell_type": "code",
   "execution_count": null,
   "id": "4c984a95-9485-4b0a-a65b-8d7aa80ff865",
   "metadata": {},
   "outputs": [],
   "source": [
    "scaler = StandardScaler()\n",
    "hu = dfuser[dfuser.reviews > 21.5][['reviews']].values\n",
    "#scaler.fit_transform(hu)\n"
   ]
  },
  {
   "cell_type": "code",
   "execution_count": null,
   "id": "991efd41-049c-4cc8-933f-a872bd64dbf5",
   "metadata": {},
   "outputs": [],
   "source": [
    "dfuser['log_reviews'] = np.log10(dfuser.reviews+1)"
   ]
  },
  {
   "cell_type": "code",
   "execution_count": null,
   "id": "77c04a88-dc0e-4910-8bc4-aea0dff9ea53",
   "metadata": {},
   "outputs": [],
   "source": [
    "\n",
    "scaler = StandardScaler()\n",
    "hu = dfuser[['reviews']].values\n",
    "dfuser['scaled_reviews'] = scaler.fit_transform(hu)\n",
    "\n",
    "upper_range = (1.5*dfuser.scaled_reviews.quantile(0.90)-dfuser.scaled_reviews.quantile(0.10))+dfuser.scaled_reviews.quantile(0.90)\n",
    "\n",
    "high_reviews = dfuser[dfuser.scaled_reviews > upper_range]\n",
    "\n",
    "high_reviews"
   ]
  },
  {
   "cell_type": "code",
   "execution_count": null,
   "id": "f9136b82-7d8c-4181-bb9e-6910d1e0ea2b",
   "metadata": {},
   "outputs": [],
   "source": [
    "#Let's cluster users on number of reviews performed and see if we see a definite pattern of users\n",
    "scaler = StandardScaler()\n",
    "X = scaler.fit_transform(dfuser[['reviews']].sample(n=10000, random_state=1).values)\n",
    "n_clusters = [2,3,4,5,6,7,8,9,10,11,12,13,114,15,16]\n",
    "\n",
    "for n in n_clusters:\n",
    "    cmod = MiniBatchKMeans(n_clusters=n, random_state=42)\n",
    "    labels = cmod.fit_predict(X)\n",
    "    \n",
    "    silhouette_avg = silhouette_score(X, labels)\n",
    "    print(\n",
    "        \"For n_clusters =\",\n",
    "        n,\n",
    "        \"The average silhouette_score is :\",\n",
    "        silhouette_avg,\n",
    "    )\n",
    "\n",
    "    sample_silhouette_values = silhouette_samples(X, labels)\n",
    "\n",
    "    fig, (ax1, ax2) = plt.subplots(1, 2)\n",
    "    fig.set_size_inches(18, 7)\n",
    "    ax1.set_xlim([-0.1, 1])\n",
    "    ax1.set_ylim([0, len(X) + (n + 1) * 10])\n",
    "    \n",
    "    y_lower = 10\n",
    "    for i in range(n):\n",
    "        # Aggregate the silhouette scores for samples belonging to\n",
    "        # cluster i, and sort them\n",
    "        ith_cluster_silhouette_values = sample_silhouette_values[labels == i]\n",
    "\n",
    "        ith_cluster_silhouette_values.sort()\n",
    "\n",
    "        size_cluster_i = ith_cluster_silhouette_values.shape[0]\n",
    "        y_upper = y_lower + size_cluster_i\n",
    "\n",
    "        color = cm.nipy_spectral(float(i) / n)\n",
    "        ax1.fill_betweenx(\n",
    "            np.arange(y_lower, y_upper),\n",
    "            0,\n",
    "            ith_cluster_silhouette_values,\n",
    "            facecolor=color,\n",
    "            edgecolor=color,\n",
    "            alpha=0.7,\n",
    "        )\n",
    "\n",
    "        # Label the silhouette plots with their cluster numbers at the middle\n",
    "        ax1.text(-0.05, y_lower + 0.5 * size_cluster_i, str(i))\n",
    "\n",
    "        # Compute the new y_lower for next plot\n",
    "        y_lower = y_upper + 10  # 10 for the 0 samples\n",
    "\n",
    "    ax1.set_title(\"The silhouette plot for the various clusters.\")\n",
    "    ax1.set_xlabel(\"The silhouette coefficient values\")\n",
    "    ax1.set_ylabel(\"Cluster label\")\n",
    "\n",
    "    # The vertical line for average silhouette score of all the values\n",
    "    ax1.axvline(x=silhouette_avg, color=\"red\", linestyle=\"--\")\n",
    "\n",
    "    ax1.set_yticks([])  # Clear the yaxis labels / ticks\n",
    "    ax1.set_xticks([-0.1, 0, 0.2, 0.4, 0.6, 0.8, 1])\n",
    "\n",
    "    # 2nd Plot showing the actual clusters formed\n",
    "    colors = cm.nipy_spectral(labels.astype(float) / n)\n",
    "    ax2.scatter(\n",
    "        X[:, 0], X[:, 0], marker=\".\", s=30, lw=0, alpha=0.7, c=colors, edgecolor=\"k\"\n",
    "    )\n",
    "\n",
    "    # Labeling the clusters\n",
    "    centers = cmod.cluster_centers_\n",
    "    # Draw white circles at cluster centers\n",
    "    ax2.scatter(\n",
    "        centers[:, 0],\n",
    "        centers[:, 0],\n",
    "        marker=\"o\",\n",
    "        c=\"white\",\n",
    "        alpha=1,\n",
    "        s=200,\n",
    "        edgecolor=\"k\",\n",
    "    )\n",
    "\n",
    "    for i, c in enumerate(centers):\n",
    "        ax2.scatter(c[0], c[0], marker=\"$%d$\" % i, alpha=1, s=50, edgecolor=\"k\")\n",
    "\n",
    "    ax2.set_title(\"The visualization of the clustered data.\")\n",
    "    ax2.set_xlabel(\"Feature space for the 1st feature\")\n",
    "    ax2.set_ylabel(\"Feature space for the 2nd feature\")\n",
    "\n",
    "    plt.suptitle(\n",
    "        \"Silhouette analysis for KMeans clustering on sample data with n_clusters = %d\"\n",
    "        % n,\n",
    "        fontsize=14,\n",
    "        fontweight=\"bold\",\n",
    "    )\n",
    "\n",
    "plt.show()\n",
    "\n"
   ]
  },
  {
   "cell_type": "code",
   "execution_count": null,
   "id": "00e22b88-d278-4a68-8a6b-7ae40d921647",
   "metadata": {},
   "outputs": [],
   "source": [
    "scaler = StandardScaler()\n",
    "X = scaler.fit_transform(dfuser[['reviews']].values)\n",
    "cmod = MiniBatchKMeans(n_clusters=2, random_state=42)\n",
    "labels = cmod.fit_predict(X)\n",
    "\n"
   ]
  },
  {
   "cell_type": "code",
   "execution_count": null,
   "id": "67ab41c0-06df-4a5c-8485-d8d7d7e9f130",
   "metadata": {},
   "outputs": [],
   "source": [
    "dfuser['anomaly'] = labels\n",
    "\n",
    "dfuser[~(dfuser['products'] < dfuser['reviews']) & (dfuser['anomaly']==1)]"
   ]
  },
  {
   "cell_type": "code",
   "execution_count": null,
   "id": "b6f7d577-3030-49fd-b53c-58358c6be7ee",
   "metadata": {},
   "outputs": [],
   "source": [
    "import matplotlib.cm as cm\n",
    "import matplotlib.pyplot as plt\n",
    "import numpy as np\n",
    "\n",
    "from sklearn.cluster import KMeans\n",
    "from sklearn.datasets import make_blobs\n",
    "from sklearn.metrics import silhouette_samples, silhouette_score\n",
    "%matplotlib inline\n",
    "\n",
    "# Generating the sample data from make_blobs\n",
    "# This particular setting has one distinct cluster and 3 clusters placed close\n",
    "# together.\n",
    "X, y = make_blobs(\n",
    "    n_samples=500,\n",
    "    n_features=2,\n",
    "    centers=4,\n",
    "    cluster_std=1,\n",
    "    center_box=(-10.0, 10.0),\n",
    "    shuffle=True,\n",
    "    random_state=1,\n",
    ")  # For reproducibility\n",
    "\n",
    "range_n_clusters = [2, 3, 4, 5, 6]\n",
    "\n",
    "for n_clusters in range_n_clusters:\n",
    "    # Create a subplot with 1 row and 2 columns\n",
    "    fig, (ax1, ax2) = plt.subplots(1, 2)\n",
    "    fig.set_size_inches(18, 7)\n",
    "\n",
    "    # The 1st subplot is the silhouette plot\n",
    "    # The silhouette coefficient can range from -1, 1 but in this example all\n",
    "    # lie within [-0.1, 1]\n",
    "    ax1.set_xlim([-0.1, 1])\n",
    "    # The (n_clusters+1)*10 is for inserting blank space between silhouette\n",
    "    # plots of individual clusters, to demarcate them clearly.\n",
    "    ax1.set_ylim([0, len(X) + (n_clusters + 1) * 10])\n",
    "\n",
    "    # Initialize the clusterer with n_clusters value and a random generator\n",
    "    # seed of 10 for reproducibility.\n",
    "    clusterer = KMeans(n_clusters=n_clusters, random_state=10)\n",
    "    cluster_labels = clusterer.fit_predict(X)\n",
    "\n",
    "    # The silhouette_score gives the average value for all the samples.\n",
    "    # This gives a perspective into the density and separation of the formed\n",
    "    # clusters\n",
    "    silhouette_avg = silhouette_score(X, cluster_labels)\n",
    "    print(\n",
    "        \"For n_clusters =\",\n",
    "        n_clusters,\n",
    "        \"The average silhouette_score is :\",\n",
    "        silhouette_avg,\n",
    "    )\n",
    "\n",
    "    # Compute the silhouette scores for each sample\n",
    "    sample_silhouette_values = silhouette_samples(X, cluster_labels)\n",
    "\n",
    "    y_lower = 10\n",
    "    for i in range(n_clusters):\n",
    "        # Aggregate the silhouette scores for samples belonging to\n",
    "        # cluster i, and sort them\n",
    "        ith_cluster_silhouette_values = sample_silhouette_values[cluster_labels == i]\n",
    "\n",
    "        ith_cluster_silhouette_values.sort()\n",
    "\n",
    "        size_cluster_i = ith_cluster_silhouette_values.shape[0]\n",
    "        y_upper = y_lower + size_cluster_i\n",
    "\n",
    "        color = cm.nipy_spectral(float(i) / n_clusters)\n",
    "        ax1.fill_betweenx(\n",
    "            np.arange(y_lower, y_upper),\n",
    "            0,\n",
    "            ith_cluster_silhouette_values,\n",
    "            facecolor=color,\n",
    "            edgecolor=color,\n",
    "            alpha=0.7,\n",
    "        )\n",
    "\n",
    "        # Label the silhouette plots with their cluster numbers at the middle\n",
    "        ax1.text(-0.05, y_lower + 0.5 * size_cluster_i, str(i))\n",
    "\n",
    "        # Compute the new y_lower for next plot\n",
    "        y_lower = y_upper + 10  # 10 for the 0 samples\n",
    "\n",
    "    ax1.set_title(\"The silhouette plot for the various clusters.\")\n",
    "    ax1.set_xlabel(\"The silhouette coefficient values\")\n",
    "    ax1.set_ylabel(\"Cluster label\")\n",
    "\n",
    "    # The vertical line for average silhouette score of all the values\n",
    "    ax1.axvline(x=silhouette_avg, color=\"red\", linestyle=\"--\")\n",
    "\n",
    "    ax1.set_yticks([])  # Clear the yaxis labels / ticks\n",
    "    ax1.set_xticks([-0.1, 0, 0.2, 0.4, 0.6, 0.8, 1])\n",
    "\n",
    "    # 2nd Plot showing the actual clusters formed\n",
    "    colors = cm.nipy_spectral(cluster_labels.astype(float) / n_clusters)\n",
    "    ax2.scatter(\n",
    "        X[:, 0], X[:, 1], marker=\".\", s=30, lw=0, alpha=0.7, c=colors, edgecolor=\"k\"\n",
    "    )\n",
    "\n",
    "    # Labeling the clusters\n",
    "    centers = clusterer.cluster_centers_\n",
    "    # Draw white circles at cluster centers\n",
    "    ax2.scatter(\n",
    "        centers[:, 0],\n",
    "        centers[:, 1],\n",
    "        marker=\"o\",\n",
    "        c=\"white\",\n",
    "        alpha=1,\n",
    "        s=200,\n",
    "        edgecolor=\"k\",\n",
    "    )\n",
    "\n",
    "    for i, c in enumerate(centers):\n",
    "        ax2.scatter(c[0], c[1], marker=\"$%d$\" % i, alpha=1, s=50, edgecolor=\"k\")\n",
    "\n",
    "    ax2.set_title(\"The visualization of the clustered data.\")\n",
    "    ax2.set_xlabel(\"Feature space for the 1st feature\")\n",
    "    ax2.set_ylabel(\"Feature space for the 2nd feature\")\n",
    "\n",
    "    plt.suptitle(\n",
    "        \"Silhouette analysis for KMeans clustering on sample data with n_clusters = %d\"\n",
    "        % n_clusters,\n",
    "        fontsize=14,\n",
    "        fontweight=\"bold\",\n",
    "    )\n",
    "\n",
    "plt.show()"
   ]
  },
  {
   "cell_type": "code",
   "execution_count": null,
   "id": "80b7eb97-52fa-4cd1-ace2-5bd17fd0921c",
   "metadata": {},
   "outputs": [],
   "source": []
  }
 ],
 "metadata": {
  "kernelspec": {
   "display_name": "Python 3 (ipykernel)",
   "language": "python",
   "name": "python3"
  },
  "language_info": {
   "codemirror_mode": {
    "name": "ipython",
    "version": 3
   },
   "file_extension": ".py",
   "mimetype": "text/x-python",
   "name": "python",
   "nbconvert_exporter": "python",
   "pygments_lexer": "ipython3",
   "version": "3.10.14"
  },
  "widgets": {
   "application/vnd.jupyter.widget-state+json": {
    "state": {},
    "version_major": 2,
    "version_minor": 0
   }
  }
 },
 "nbformat": 4,
 "nbformat_minor": 5
}
