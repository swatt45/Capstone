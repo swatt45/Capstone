{
 "cells": [
  {
   "cell_type": "code",
   "execution_count": 49,
   "id": "79484be2",
   "metadata": {},
   "outputs": [],
   "source": [
    "import pandas as pd\n",
    "from sklearn.tree import DecisionTreeClassifier\n",
    "from sklearn.metrics import fbeta_score, accuracy_score, recall_score, precision_score\n",
    "from sklearn.model_selection import train_test_split\n"
   ]
  },
  {
   "cell_type": "code",
   "execution_count": 72,
   "id": "4b642b3a",
   "metadata": {},
   "outputs": [],
   "source": [
    "df = pd.read_csv('secondary_data.csv', sep=';')\n",
    "df.columns = df.columns.str.replace(\"-\", \"_\")"
   ]
  },
  {
   "cell_type": "code",
   "execution_count": 73,
   "id": "0b6bd9b5-4fc8-452f-8cfa-a1f8f8b1e8bd",
   "metadata": {},
   "outputs": [],
   "source": [
    "def binarize_p_or_e(cls):\n",
    "    if cls =='p': \n",
    "        return True \n",
    "    else: \n",
    "        return False"
   ]
  },
  {
   "cell_type": "code",
   "execution_count": 74,
   "id": "4a8c805b-4bb7-4bdc-9afe-703b7cae7b70",
   "metadata": {},
   "outputs": [],
   "source": [
    "df['class'] = df['class'].apply(lambda x: binarize_p_or_e(x))\n",
    "X = pd.get_dummies(df.drop('class', axis=1))\n",
    "y = df['class']\n",
    "X_train, X_test, y_train, y_test = train_test_split(X, y, test_size=0.30)"
   ]
  },
  {
   "cell_type": "code",
   "execution_count": 94,
   "id": "e13f17d5-1475-4bf8-89f1-ce5a6b9cc275",
   "metadata": {},
   "outputs": [
    {
     "data": {
      "text/plain": [
       "0.9991358824800173"
      ]
     },
     "execution_count": 94,
     "metadata": {},
     "output_type": "execute_result"
    }
   ],
   "source": [
    "model = DecisionTreeClassifier(class_weight='balanced')\n",
    "model.fit(X_train, y_train)\n",
    "y_pred = model.predict(X_test)\n",
    "fbeta_score(y_test, y_pred, beta=2, zero_division=1)"
   ]
  },
  {
   "cell_type": "code",
   "execution_count": 99,
   "id": "d7eb030d-2458-4667-95ba-7466acb78c0f",
   "metadata": {},
   "outputs": [
    {
     "data": {
      "text/plain": [
       "{'ccp_alpha': 0.0,\n",
       " 'class_weight': 'balanced',\n",
       " 'criterion': 'gini',\n",
       " 'max_depth': None,\n",
       " 'max_features': None,\n",
       " 'max_leaf_nodes': None,\n",
       " 'min_impurity_decrease': 0.0,\n",
       " 'min_samples_leaf': 1,\n",
       " 'min_samples_split': 2,\n",
       " 'min_weight_fraction_leaf': 0.0,\n",
       " 'monotonic_cst': None,\n",
       " 'random_state': None,\n",
       " 'splitter': 'best'}"
      ]
     },
     "execution_count": 99,
     "metadata": {},
     "output_type": "execute_result"
    }
   ],
   "source": [
    "model.get_params()"
   ]
  },
  {
   "cell_type": "code",
   "execution_count": 123,
   "id": "29222f49-fdfa-43cd-aa4e-33800b99dcd1",
   "metadata": {},
   "outputs": [],
   "source": [
    "fi = pd.DataFrame(model.feature_importances_, columns=['importance'])\n",
    "fi['feature'] = X.columns[fi.index]"
   ]
  },
  {
   "cell_type": "code",
   "execution_count": 125,
   "id": "db3be199-f59f-4312-ae40-16f48fd50342",
   "metadata": {},
   "outputs": [
    {
     "data": {
      "text/html": [
       "<div>\n",
       "<style scoped>\n",
       "    .dataframe tbody tr th:only-of-type {\n",
       "        vertical-align: middle;\n",
       "    }\n",
       "\n",
       "    .dataframe tbody tr th {\n",
       "        vertical-align: top;\n",
       "    }\n",
       "\n",
       "    .dataframe thead th {\n",
       "        text-align: right;\n",
       "    }\n",
       "</style>\n",
       "<table border=\"1\" class=\"dataframe\">\n",
       "  <thead>\n",
       "    <tr style=\"text-align: right;\">\n",
       "      <th></th>\n",
       "      <th>importance</th>\n",
       "      <th>feature</th>\n",
       "    </tr>\n",
       "  </thead>\n",
       "  <tbody>\n",
       "    <tr>\n",
       "      <th>2</th>\n",
       "      <td>0.106305</td>\n",
       "      <td>stem_width</td>\n",
       "    </tr>\n",
       "    <tr>\n",
       "      <th>43</th>\n",
       "      <td>0.047405</td>\n",
       "      <td>gill_spacing_d</td>\n",
       "    </tr>\n",
       "    <tr>\n",
       "      <th>34</th>\n",
       "      <td>0.044752</td>\n",
       "      <td>does_bruise_or_bleed_t</td>\n",
       "    </tr>\n",
       "    <tr>\n",
       "      <th>1</th>\n",
       "      <td>0.040967</td>\n",
       "      <td>stem_height</td>\n",
       "    </tr>\n",
       "    <tr>\n",
       "      <th>81</th>\n",
       "      <td>0.039618</td>\n",
       "      <td>stem_color_w</td>\n",
       "    </tr>\n",
       "    <tr>\n",
       "      <th>4</th>\n",
       "      <td>0.034141</td>\n",
       "      <td>cap_shape_c</td>\n",
       "    </tr>\n",
       "    <tr>\n",
       "      <th>12</th>\n",
       "      <td>0.033670</td>\n",
       "      <td>cap_surface_g</td>\n",
       "    </tr>\n",
       "    <tr>\n",
       "      <th>61</th>\n",
       "      <td>0.031185</td>\n",
       "      <td>stem_root_s</td>\n",
       "    </tr>\n",
       "    <tr>\n",
       "      <th>29</th>\n",
       "      <td>0.026622</td>\n",
       "      <td>cap_color_r</td>\n",
       "    </tr>\n",
       "    <tr>\n",
       "      <th>99</th>\n",
       "      <td>0.026390</td>\n",
       "      <td>ring_type_z</td>\n",
       "    </tr>\n",
       "  </tbody>\n",
       "</table>\n",
       "</div>"
      ],
      "text/plain": [
       "    importance                 feature\n",
       "2     0.106305              stem_width\n",
       "43    0.047405          gill_spacing_d\n",
       "34    0.044752  does_bruise_or_bleed_t\n",
       "1     0.040967             stem_height\n",
       "81    0.039618            stem_color_w\n",
       "4     0.034141             cap_shape_c\n",
       "12    0.033670           cap_surface_g\n",
       "61    0.031185             stem_root_s\n",
       "29    0.026622             cap_color_r\n",
       "99    0.026390             ring_type_z"
      ]
     },
     "execution_count": 125,
     "metadata": {},
     "output_type": "execute_result"
    }
   ],
   "source": [
    "fi.sort_values(by='importance', ascending=False)[:10]"
   ]
  },
  {
   "cell_type": "code",
   "execution_count": 105,
   "id": "66261de3-876d-4a59-a16e-01828c0786df",
   "metadata": {},
   "outputs": [
    {
     "data": {
      "text/plain": [
       "(61069, 119)"
      ]
     },
     "execution_count": 105,
     "metadata": {},
     "output_type": "execute_result"
    }
   ],
   "source": []
  },
  {
   "cell_type": "code",
   "execution_count": 83,
   "id": "4b4336d1-75c2-42aa-ba00-bd10b33ca68b",
   "metadata": {},
   "outputs": [
    {
     "data": {
      "text/plain": [
       "0    \n",
       "True     10188\n",
       "False     8133\n",
       "Name: count, dtype: int64"
      ]
     },
     "execution_count": 83,
     "metadata": {},
     "output_type": "execute_result"
    }
   ],
   "source": [
    "pd.DataFrame(y_pred).value_counts()"
   ]
  },
  {
   "cell_type": "code",
   "execution_count": 128,
   "id": "6bc0638d-43fd-48a3-82df-2c9133aada55",
   "metadata": {},
   "outputs": [
    {
     "name": "stdout",
     "output_type": "stream",
     "text": [
      "Accuracy: 0.9987446100103706\n",
      "Precision: 0.9984299872436464\n",
      "Recall: 0.9993125122765665\n",
      "F2: 0.9991358824800173\n",
      "\n"
     ]
    }
   ],
   "source": [
    "print(\n",
    "    f\"Accuracy: {accuracy_score(y_test, y_pred)}\\nPrecision: {precision_score(y_test, y_pred, zero_division=1)}\\nRecall: {recall_score(y_test, y_pred, zero_division=1)}\\nF2: {fbeta_score(y_test, y_pred, beta=2, zero_division=1)}\\n\"\n",
    ")\n",
    " "
   ]
  },
  {
   "cell_type": "code",
   "execution_count": 85,
   "id": "c6ff2f1f-4527-45cd-864d-9d5297080928",
   "metadata": {},
   "outputs": [
    {
     "data": {
      "text/plain": [
       "0.9986258343148803"
      ]
     },
     "execution_count": 85,
     "metadata": {},
     "output_type": "execute_result"
    }
   ],
   "source": []
  },
  {
   "cell_type": "code",
   "execution_count": 86,
   "id": "a52ccf31-da46-4ed3-8ce7-62e9fbacc01d",
   "metadata": {},
   "outputs": [
    {
     "data": {
      "text/plain": [
       "0.9992142997446474"
      ]
     },
     "execution_count": 86,
     "metadata": {},
     "output_type": "execute_result"
    }
   ],
   "source": []
  },
  {
   "cell_type": "code",
   "execution_count": null,
   "id": "cca38eb1-519c-4592-8452-e2ea8fec8c36",
   "metadata": {},
   "outputs": [],
   "source": []
  }
 ],
 "metadata": {
  "kernelspec": {
   "display_name": "Python 3 (ipykernel)",
   "language": "python",
   "name": "python3"
  },
  "language_info": {
   "codemirror_mode": {
    "name": "ipython",
    "version": 3
   },
   "file_extension": ".py",
   "mimetype": "text/x-python",
   "name": "python",
   "nbconvert_exporter": "python",
   "pygments_lexer": "ipython3",
   "version": "3.10.13"
  },
  "widgets": {
   "application/vnd.jupyter.widget-state+json": {
    "state": {},
    "version_major": 2,
    "version_minor": 0
   }
  }
 },
 "nbformat": 4,
 "nbformat_minor": 5
}
