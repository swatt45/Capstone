{
 "cells": [
  {
   "cell_type": "code",
   "execution_count": 2,
   "id": "79484be2",
   "metadata": {},
   "outputs": [],
   "source": [
    "%matplotlib inline\n",
    "import pandas as pd\n",
    "import numpy as np\n",
    "from sklearn.tree import DecisionTreeClassifier\n",
    "from sklearn.ensemble import RandomForestClassifier\n",
    "from sklearn.neural_network import MLPClassifier\n",
    "from sklearn.metrics import fbeta_score, accuracy_score, recall_score, precision_score, confusion_matrix,ConfusionMatrixDisplay\n",
    "from sklearn.model_selection import train_test_split\n",
    "import pickle\n",
    "import seaborn as sns\n",
    "from matplotlib import pyplot as plt\n",
    "import json\n",
    "from wordcloud import WordCloud, STOPWORDS\n",
    "#import mpld3\n",
    "#mpld3.enable_notebook()\n",
    "pd.options.display.float_format = '{:,.0f}'.format"
   ]
  },
  {
   "cell_type": "code",
   "execution_count": null,
   "id": "d8f1a929-4577-48ea-824e-d49d4e8f5fbf",
   "metadata": {},
   "outputs": [],
   "source": [
    "# dfreco = pd.read_csv(\"recommendations.csv\")\n",
    "# dfreco.to_parquet(\"recommendations.parquet\")"
   ]
  },
  {
   "cell_type": "code",
   "execution_count": null,
   "id": "0aa08c40-175e-4876-a140-d8c2a70e5cfe",
   "metadata": {},
   "outputs": [],
   "source": [
    "dfreco = pd.read_parquet(\"recommendations.parquet\")"
   ]
  },
  {
   "cell_type": "code",
   "execution_count": null,
   "id": "39ce76cf-04b2-46a9-ab3b-7b4cf9fce737",
   "metadata": {},
   "outputs": [],
   "source": [
    "dfreco.info()"
   ]
  },
  {
   "cell_type": "code",
   "execution_count": null,
   "id": "362f0f05-7800-4212-b2e3-3a23c038225a",
   "metadata": {},
   "outputs": [],
   "source": [
    "dfreco.describe()"
   ]
  },
  {
   "cell_type": "code",
   "execution_count": null,
   "id": "4ee97b0c-8646-42cc-98d7-caa857f107a0",
   "metadata": {},
   "outputs": [],
   "source": [
    "dfgame = pd.read_csv(\"games.csv\")"
   ]
  },
  {
   "cell_type": "code",
   "execution_count": null,
   "id": "0ebfd2dd-6e2d-4acd-afbc-7c32f2952d20",
   "metadata": {},
   "outputs": [],
   "source": [
    "dfgame.info()"
   ]
  },
  {
   "cell_type": "code",
   "execution_count": null,
   "id": "59567589-2fcb-4e10-942e-73af4ad50b28",
   "metadata": {},
   "outputs": [],
   "source": [
    "dfgame.describe()"
   ]
  },
  {
   "cell_type": "code",
   "execution_count": 3,
   "id": "16f1321d-5c4d-4853-a204-31551dfaf815",
   "metadata": {},
   "outputs": [],
   "source": [
    "dfuser = pd.read_csv(\"users.csv\")"
   ]
  },
  {
   "cell_type": "code",
   "execution_count": 4,
   "id": "08c8f71a-ecc2-4047-864b-83379e3415b3",
   "metadata": {},
   "outputs": [
    {
     "data": {
      "text/plain": [
       "<Axes: >"
      ]
     },
     "execution_count": 4,
     "metadata": {},
     "output_type": "execute_result"
    },
    {
     "data": {
      "image/png": "[encoded data removed]",
      "text/plain": [
       "<Figure size 640x480 with 1 Axes>"
      ]
     },
     "metadata": {},
     "output_type": "display_data"
    }
   ],
   "source": [
    "dfuser['reviews'].hist()"
   ]
  },
  {
   "cell_type": "code",
   "execution_count": 5,
   "id": "0012b38d-bf0c-43de-8c04-e261e6136cd2",
   "metadata": {},
   "outputs": [
    {
     "data": {
      "image/png": "[encoded data removed]",
      "text/plain": [
       "<Figure size 640x480 with 1 Axes>"
      ]
     },
     "metadata": {},
     "output_type": "display_data"
    }
   ],
   "source": [
    "sns.set_theme(style=\"ticks\")\n",
    "#tips = sns.load_dataset(\"tips\")\n",
    "#ax = sns.violinplot(x=dfuser[dfuser.reviews >= 1000]['reviews'])\n",
    "\n",
    "ax = sns.boxplot(y=dfuser[\"reviews\"])\n",
    "\n",
    "#ax.set(ylim=(2000,dfuser.reviews.max()))\n",
    "#plt.yscale(\"log\")\n",
    "plt.show()"
   ]
  },
  {
   "cell_type": "code",
   "execution_count": null,
   "id": "0a0680db-575c-4802-b339-6deb282b7725",
   "metadata": {},
   "outputs": [],
   "source": [
    "#X = dfuser[['products', 'reviews']]"
   ]
  },
  {
   "cell_type": "code",
   "execution_count": null,
   "id": "cefae5cd-c020-4492-8866-7bd8011d4c8e",
   "metadata": {},
   "outputs": [],
   "source": [
    "X = dfuser[['reviews']]"
   ]
  },
  {
   "cell_type": "code",
   "execution_count": null,
   "id": "4f956e42-7694-48be-b1e2-ac792ee6d023",
   "metadata": {},
   "outputs": [],
   "source": [
    "from sklearn.ensemble import IsolationForest"
   ]
  },
  {
   "cell_type": "code",
   "execution_count": null,
   "id": "8faafd33-392f-48cf-bbed-4b96f79e5fea",
   "metadata": {},
   "outputs": [],
   "source": [
    "model = IsolationForest(random_state=42)"
   ]
  },
  {
   "cell_type": "code",
   "execution_count": null,
   "id": "363c51a4-da0e-4365-a85f-50943db9f681",
   "metadata": {},
   "outputs": [],
   "source": [
    "model.fit(X)"
   ]
  },
  {
   "cell_type": "code",
   "execution_count": null,
   "id": "f12f8da0-7778-4cbf-b7cc-e02b5ec8ac49",
   "metadata": {},
   "outputs": [],
   "source": [
    "dfuser['scores']=model.decision_function(X)\n",
    "dfuser['anomaly']=model.predict(X)"
   ]
  },
  {
   "cell_type": "code",
   "execution_count": null,
   "id": "b616ea49-851b-469d-ba32-f9fa8a23809d",
   "metadata": {},
   "outputs": [],
   "source": [
    "dfuser[dfuser.scores > 0].head(20)"
   ]
  },
  {
   "cell_type": "code",
   "execution_count": null,
   "id": "11da7268-460d-4f0e-88a4-87bf2fa1213c",
   "metadata": {},
   "outputs": [],
   "source": [
    "dfuser.info()"
   ]
  },
  {
   "cell_type": "code",
   "execution_count": null,
   "id": "6474d37e-561f-49d9-9579-8aa57c65097e",
   "metadata": {},
   "outputs": [],
   "source": [
    "dfuser.describe()"
   ]
  },
  {
   "cell_type": "code",
   "execution_count": null,
   "id": "0afde514-5dd6-4b4a-8e1d-48c6a7b3d66b",
   "metadata": {},
   "outputs": [],
   "source": [
    "dfmeta = pd.read_json('games_metadata.json', lines=False)"
   ]
  },
  {
   "cell_type": "code",
   "execution_count": null,
   "id": "4dc61a48-5f52-4505-9890-7c32afc5eaa8",
   "metadata": {},
   "outputs": [],
   "source": [
    "dfmeta.info()"
   ]
  },
  {
   "cell_type": "code",
   "execution_count": null,
   "id": "0079612b-f7b9-4531-a6a7-092390aa12d2",
   "metadata": {},
   "outputs": [],
   "source": [
    "dfmeta.describe()"
   ]
  },
  {
   "cell_type": "code",
   "execution_count": null,
   "id": "42e12585-32a8-461c-ba03-3e94d87b7162",
   "metadata": {},
   "outputs": [],
   "source": [
    "dfmeta.head()"
   ]
  },
  {
   "cell_type": "code",
   "execution_count": null,
   "id": "25ca7e94-b154-4e40-ad2f-8f9426b9b7ba",
   "metadata": {},
   "outputs": [],
   "source": [
    "genres = {x for l in dfmeta.tags for x in l}"
   ]
  },
  {
   "cell_type": "code",
   "execution_count": null,
   "id": "557d87dc-ee6e-4020-bf98-e8811fd545ae",
   "metadata": {},
   "outputs": [],
   "source": [
    "len(genres)"
   ]
  },
  {
   "cell_type": "code",
   "execution_count": null,
   "id": "70753596-de0c-4735-9eeb-fe3121f407b0",
   "metadata": {},
   "outputs": [],
   "source": [
    "dfagg = dfreco[['user_id', ' 'is_recommended']].groupby(['user_id']).sum().sort_values('is_recommended', ascending=False)  "
   ]
  },
  {
   "cell_type": "code",
   "execution_count": null,
   "id": "ba366a43-ddab-48e0-b634-37eee508d837",
   "metadata": {},
   "outputs": [],
   "source": [
    "dfagg"
   ]
  },
  {
   "cell_type": "code",
   "execution_count": null,
   "id": "03174e42-fbea-45f8-86b4-4f838bdd3744",
   "metadata": {},
   "outputs": [],
   "source": [
    "dfuser.sort_values('reviews', ascending=False)"
   ]
  },
  {
   "cell_type": "code",
   "execution_count": null,
   "id": "0dc0447d-a56c-456b-af77-d142b7b77722",
   "metadata": {},
   "outputs": [],
   "source": []
  },
  {
   "cell_type": "code",
   "execution_count": null,
   "id": "b0b267fd-6a31-4822-8432-143f5b600170",
   "metadata": {},
   "outputs": [],
   "source": []
  },
  {
   "cell_type": "code",
   "execution_count": null,
   "id": "e21bf9ce-3442-4aaa-95d6-0203bdea43b1",
   "metadata": {},
   "outputs": [],
   "source": []
  },
  {
   "cell_type": "code",
   "execution_count": null,
   "id": "bc7f6940-3631-4511-ac44-4b953f36d748",
   "metadata": {},
   "outputs": [],
   "source": []
  },
  {
   "cell_type": "code",
   "execution_count": null,
   "id": "32623dcf-4adf-4d4e-a64d-f83ec45e49a2",
   "metadata": {},
   "outputs": [],
   "source": []
  },
  {
   "cell_type": "code",
   "execution_count": null,
   "id": "57bec787-ef52-44b4-9a33-e68c85e95bc0",
   "metadata": {},
   "outputs": [],
   "source": []
  },
  {
   "cell_type": "code",
   "execution_count": null,
   "id": "f8511414-abd0-4d22-8c09-aaa5834c235b",
   "metadata": {},
   "outputs": [],
   "source": []
  },
  {
   "cell_type": "code",
   "execution_count": null,
   "id": "11f322ab-590d-4f3a-a855-eb820d44d8c2",
   "metadata": {},
   "outputs": [],
   "source": []
  },
  {
   "cell_type": "code",
   "execution_count": null,
   "id": "cb7f0f36-c4eb-4ac5-89a8-08dcc71c74c8",
   "metadata": {},
   "outputs": [],
   "source": []
  },
  {
   "cell_type": "code",
   "execution_count": null,
   "id": "2ebe4ae1-700e-4cad-8f27-b5aba17d0478",
   "metadata": {},
   "outputs": [],
   "source": []
  },
  {
   "cell_type": "code",
   "execution_count": null,
   "id": "7034a657-e949-4bd7-8e19-e5a1f9dcfc63",
   "metadata": {},
   "outputs": [],
   "source": []
  },
  {
   "cell_type": "code",
   "execution_count": null,
   "id": "0a1acacf-ddec-415f-9996-a3e076a83dd9",
   "metadata": {},
   "outputs": [],
   "source": []
  },
  {
   "cell_type": "code",
   "execution_count": null,
   "id": "4b642b3a",
   "metadata": {},
   "outputs": [],
   "source": [
    "df = pd.read_csv('secondary_data.csv', sep=';')\n",
    "df.columns = df.columns.str.replace(\"-\", \"_\")"
   ]
  },
  {
   "cell_type": "code",
   "execution_count": null,
   "id": "0b6bd9b5-4fc8-452f-8cfa-a1f8f8b1e8bd",
   "metadata": {},
   "outputs": [],
   "source": [
    "def binarize_p_or_e(cls):\n",
    "    if cls =='p': \n",
    "        return True \n",
    "    else: \n",
    "        return False"
   ]
  },
  {
   "cell_type": "code",
   "execution_count": null,
   "id": "4a8c805b-4bb7-4bdc-9afe-703b7cae7b70",
   "metadata": {},
   "outputs": [],
   "source": [
    "df['class'] = df['class'].apply(lambda x: binarize_p_or_e(x))\n",
    "X = pd.get_dummies(df.drop('class', axis=1))\n",
    "y = df['class']\n",
    "X_train, X_test, y_train, y_test = train_test_split(X, y, test_size=0.30, random_state=42, stratify=y)"
   ]
  },
  {
   "cell_type": "code",
   "execution_count": null,
   "id": "f7284191-b3b0-408f-85b3-2d0c07d69be8",
   "metadata": {},
   "outputs": [],
   "source": [
    "\n",
    "def get_best_tree(X, y, max_depth=3, random_state=42):\n",
    "    model = DecisionTreeClassifier(class_weight='balanced', random_state=random_state)\n",
    "    f2s = {}     \n",
    "    for i in range(3, max_depth+1):\n",
    "        model = DecisionTreeClassifier(class_weight='balanced', max_depth=i, splitter='random', random_state=random_state)\n",
    "        model.fit(X, y)\n",
    "        y_pred = model.predict(X_test)\n",
    "        f2s[f\"{i}\"] = float(recall_score(y_test, y_pred, zero_division=0))\n",
    "\n",
    "    md = int(max(f2s, key=f2s.get))\n",
    "    \n",
    "    print(\"Best Recall: \" + \"%f\" % f2s[str(md)])\n",
    "    model = DecisionTreeClassifier(class_weight='balanced', max_depth=md, splitter='random', random_state=random_state) \n",
    "    model.fit(X, y)\n",
    "    return model\n",
    "\n",
    "\n",
    "model = get_best_tree(X_train, y_train, 100)\n",
    "model.get_params()\n",
    "    \n",
    "    "
   ]
  },
  {
   "cell_type": "code",
   "execution_count": null,
   "id": "a40f360d-75b7-42d0-b27b-6bd3228ae1a7",
   "metadata": {},
   "outputs": [],
   "source": [
    "fi = pd.DataFrame(model.feature_importances_, columns=['importance'])\n",
    "fi['feature'] = X.columns[fi.index]\n",
    "fi.sort_values(by='importance', ascending=False)[:20]"
   ]
  },
  {
   "cell_type": "code",
   "execution_count": null,
   "id": "4b4336d1-75c2-42aa-ba00-bd10b33ca68b",
   "metadata": {},
   "outputs": [],
   "source": [
    "y_pred = model.predict(X_test)\n",
    "pd.DataFrame(y_pred).value_counts()"
   ]
  },
  {
   "cell_type": "code",
   "execution_count": null,
   "id": "42d77369-5a18-44a6-ab36-dd70a87217a1",
   "metadata": {},
   "outputs": [],
   "source": [
    "cm = confusion_matrix(y_test, y_pred)\n",
    "disp = ConfusionMatrixDisplay(confusion_matrix=cm)\n",
    "disp.plot()"
   ]
  },
  {
   "cell_type": "code",
   "execution_count": null,
   "id": "6bc0638d-43fd-48a3-82df-2c9133aada55",
   "metadata": {},
   "outputs": [],
   "source": [
    "print(f\"Accuracy: {accuracy_score(y_test, y_pred)}\")\n",
    "print(f\"Precision: {precision_score(y_test, y_pred, zero_division=1)}\")\n",
    "print(f\"Recall: {recall_score(y_test, y_pred, zero_division=1)}\")\n",
    "print(f\"F2: {fbeta_score(y_test, y_pred, beta=2, zero_division=1)}\")"
   ]
  },
  {
   "cell_type": "code",
   "execution_count": null,
   "id": "6ff56cd4-e734-4c1b-89df-a32c55a2dff1",
   "metadata": {},
   "outputs": [],
   "source": [
    "\n",
    "\n",
    "clf = MLPClassifier(random_state=42, max_iter=300).fit(X_train, y_train)\n"
   ]
  },
  {
   "cell_type": "code",
   "execution_count": null,
   "id": "2864d2d4-1839-4091-838f-d0de19061524",
   "metadata": {},
   "outputs": [],
   "source": [
    "y_pred = clf.predict(X_test)\n",
    "pd.DataFrame(y_pred).value_counts()"
   ]
  },
  {
   "cell_type": "code",
   "execution_count": null,
   "id": "7ddeecd7-ee46-4281-9f75-da02226c734d",
   "metadata": {},
   "outputs": [],
   "source": [
    "cm = confusion_matrix(y_test, y_pred)\n",
    "disp = ConfusionMatrixDisplay(confusion_matrix=cm)\n",
    "disp.plot()"
   ]
  },
  {
   "cell_type": "code",
   "execution_count": null,
   "id": "e4dda994-3612-42d6-b146-df9082ffa557",
   "metadata": {},
   "outputs": [],
   "source": [
    "print(f\"Accuracy: {accuracy_score(y_test, y_pred)}\")\n",
    "print(f\"Precision: {precision_score(y_test, y_pred, zero_division=1)}\")\n",
    "print(f\"Recall: {recall_score(y_test, y_pred, zero_division=1)}\")\n",
    "print(f\"F2: {fbeta_score(y_test, y_pred, beta=2, zero_division=1)}\")"
   ]
  },
  {
   "cell_type": "code",
   "execution_count": null,
   "id": "f5ac834a-945e-44c4-a583-93127376550d",
   "metadata": {},
   "outputs": [],
   "source": [
    "clf = RandomForestClassifier(random_state=42).fit(X_train, y_train)"
   ]
  },
  {
   "cell_type": "code",
   "execution_count": null,
   "id": "8eb9ccb7-8287-4d51-a7c3-e1e0e50fc65d",
   "metadata": {},
   "outputs": [],
   "source": [
    "y_pred = clf.predict(X_test)\n",
    "pd.DataFrame(y_pred).value_counts()"
   ]
  },
  {
   "cell_type": "code",
   "execution_count": null,
   "id": "78bc1dfc-b00e-427e-aaa3-eddd447fa248",
   "metadata": {},
   "outputs": [],
   "source": [
    "cm = confusion_matrix(y_test, y_pred)\n",
    "disp = ConfusionMatrixDisplay(confusion_matrix=cm)\n",
    "disp.plot()"
   ]
  },
  {
   "cell_type": "code",
   "execution_count": null,
   "id": "5d2f4496-e3a2-4c75-bb73-256bb5bc5e93",
   "metadata": {},
   "outputs": [],
   "source": [
    "print(f\"Accuracy: {accuracy_score(y_test, y_pred)}\")\n",
    "print(f\"Precision: {precision_score(y_test, y_pred, zero_division=1)}\")\n",
    "print(f\"Recall: {recall_score(y_test, y_pred, zero_division=1)}\")\n",
    "print(f\"F2: {fbeta_score(y_test, y_pred, beta=2, zero_division=1)}\")"
   ]
  },
  {
   "cell_type": "code",
   "execution_count": null,
   "id": "abe1377b-6db9-45d0-ac68-0877b0158d81",
   "metadata": {},
   "outputs": [],
   "source": []
  }
 ],
 "metadata": {
  "kernelspec": {
   "display_name": "Python 3 (ipykernel)",
   "language": "python",
   "name": "python3"
  },
  "language_info": {
   "codemirror_mode": {
    "name": "ipython",
    "version": 3
   },
   "file_extension": ".py",
   "mimetype": "text/x-python",
   "name": "python",
   "nbconvert_exporter": "python",
   "pygments_lexer": "ipython3",
   "version": "3.10.13"
  },
  "widgets": {
   "application/vnd.jupyter.widget-state+json": {
    "state": {},
    "version_major": 2,
    "version_minor": 0
   }
  }
 },
 "nbformat": 4,
 "nbformat_minor": 5
}
