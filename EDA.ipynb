{
 "cells": [
  {
   "cell_type": "code",
   "execution_count": 94,
   "id": "79484be2",
   "metadata": {},
   "outputs": [],
   "source": [
    "import pandas as pd\n",
    "import numpy as np\n",
    "from sklearn.tree import DecisionTreeClassifier\n",
    "from sklearn.metrics import fbeta_score, accuracy_score, recall_score, precision_score, confusion_matrix,ConfusionMatrixDisplay\n",
    "from sklearn.model_selection import train_test_split\n",
    "import pickle\n",
    "from matplotlib import pyplot as plt\n"
   ]
  },
  {
   "cell_type": "code",
   "execution_count": 84,
   "id": "4b642b3a",
   "metadata": {},
   "outputs": [],
   "source": [
    "df = pd.read_csv('secondary_data.csv', sep=';')\n",
    "df.columns = df.columns.str.replace(\"-\", \"_\")"
   ]
  },
  {
   "cell_type": "code",
   "execution_count": 85,
   "id": "0b6bd9b5-4fc8-452f-8cfa-a1f8f8b1e8bd",
   "metadata": {},
   "outputs": [],
   "source": [
    "def binarize_p_or_e(cls):\n",
    "    if cls =='p': \n",
    "        return True \n",
    "    else: \n",
    "        return False"
   ]
  },
  {
   "cell_type": "code",
   "execution_count": 86,
   "id": "4a8c805b-4bb7-4bdc-9afe-703b7cae7b70",
   "metadata": {},
   "outputs": [],
   "source": [
    "df['class'] = df['class'].apply(lambda x: binarize_p_or_e(x))\n",
    "X = pd.get_dummies(df.drop('class', axis=1))\n",
    "y = df['class']\n",
    "X_train, X_test, y_train, y_test = train_test_split(X, y, test_size=0.30, random_state=42)"
   ]
  },
  {
   "cell_type": "code",
   "execution_count": 88,
   "id": "f7284191-b3b0-408f-85b3-2d0c07d69be8",
   "metadata": {},
   "outputs": [
    {
     "name": "stdout",
     "output_type": "stream",
     "text": [
      "Best F2: 0.999922\n"
     ]
    },
    {
     "data": {
      "text/plain": [
       "{'ccp_alpha': 0.0,\n",
       " 'class_weight': 'balanced',\n",
       " 'criterion': 'gini',\n",
       " 'max_depth': 22,\n",
       " 'max_features': None,\n",
       " 'max_leaf_nodes': None,\n",
       " 'min_impurity_decrease': 0.0,\n",
       " 'min_samples_leaf': 1,\n",
       " 'min_samples_split': 2,\n",
       " 'min_weight_fraction_leaf': 0.0,\n",
       " 'monotonic_cst': None,\n",
       " 'random_state': 42,\n",
       " 'splitter': 'random'}"
      ]
     },
     "execution_count": 88,
     "metadata": {},
     "output_type": "execute_result"
    }
   ],
   "source": [
    "\n",
    "def get_best_tree(X, y, max_depth=3, random_state=42):\n",
    "    model = DecisionTreeClassifier(class_weight='balanced', random_state=random_state)\n",
    "    f2s = {}     \n",
    "    for i in range(3, max_depth+1):\n",
    "        model = DecisionTreeClassifier(class_weight='balanced', max_depth=i, splitter='random', random_state=random_state)\n",
    "        model.fit(X, y)\n",
    "        y_pred = model.predict(X_test)\n",
    "        f2s[f\"{i}\"] = float(fbeta_score(y_test, y_pred, beta=2, zero_division=0))\n",
    "\n",
    "    md = int(max(f2s, key=f2s.get))\n",
    "    \n",
    "    print(\"Best F2: \" + \"%f\" % f2s[str(md)])\n",
    "    model = DecisionTreeClassifier(class_weight='balanced', max_depth=md, splitter='random', random_state=random_state) \n",
    "    model.fit(X, y)\n",
    "    return model\n",
    "\n",
    "\n",
    "model = get_best_tree(X_train, y_train, 100)\n",
    "model.get_params()\n",
    "    \n",
    "    "
   ]
  },
  {
   "cell_type": "code",
   "execution_count": 101,
   "id": "ed7e0e87-b35c-4f59-9480-c554b5404abb",
   "metadata": {},
   "outputs": [
    {
     "data": {
      "text/plain": [
       "<sklearn.metrics._plot.confusion_matrix.ConfusionMatrixDisplay at 0x7fef932f7400>"
      ]
     },
     "execution_count": 101,
     "metadata": {},
     "output_type": "execute_result"
    },
    {
     "data": {
      "image/png": "[encoded data removed]",
      "text/plain": [
       "<Figure size 640x480 with 2 Axes>"
      ]
     },
     "metadata": {},
     "output_type": "display_data"
    }
   ],
   "source": [
    "cm = confusion_matrix(y_test, y_pred)\n",
    "disp = ConfusionMatrixDisplay(confusion_matrix=cm)\n",
    "disp.plot()"
   ]
  },
  {
   "cell_type": "code",
   "execution_count": 48,
   "id": "a40f360d-75b7-42d0-b27b-6bd3228ae1a7",
   "metadata": {},
   "outputs": [
    {
     "data": {
      "text/html": [
       "<div>\n",
       "<style scoped>\n",
       "    .dataframe tbody tr th:only-of-type {\n",
       "        vertical-align: middle;\n",
       "    }\n",
       "\n",
       "    .dataframe tbody tr th {\n",
       "        vertical-align: top;\n",
       "    }\n",
       "\n",
       "    .dataframe thead th {\n",
       "        text-align: right;\n",
       "    }\n",
       "</style>\n",
       "<table border=\"1\" class=\"dataframe\">\n",
       "  <thead>\n",
       "    <tr style=\"text-align: right;\">\n",
       "      <th></th>\n",
       "      <th>importance</th>\n",
       "      <th>feature</th>\n",
       "    </tr>\n",
       "  </thead>\n",
       "  <tbody>\n",
       "    <tr>\n",
       "      <th>55</th>\n",
       "      <td>0.062380</td>\n",
       "      <td>gill_color_w</td>\n",
       "    </tr>\n",
       "    <tr>\n",
       "      <th>39</th>\n",
       "      <td>0.044784</td>\n",
       "      <td>gill_attachment_p</td>\n",
       "    </tr>\n",
       "    <tr>\n",
       "      <th>81</th>\n",
       "      <td>0.041570</td>\n",
       "      <td>stem_color_w</td>\n",
       "    </tr>\n",
       "    <tr>\n",
       "      <th>38</th>\n",
       "      <td>0.039922</td>\n",
       "      <td>gill_attachment_f</td>\n",
       "    </tr>\n",
       "    <tr>\n",
       "      <th>60</th>\n",
       "      <td>0.037541</td>\n",
       "      <td>stem_root_r</td>\n",
       "    </tr>\n",
       "    <tr>\n",
       "      <th>17</th>\n",
       "      <td>0.031862</td>\n",
       "      <td>cap_surface_s</td>\n",
       "    </tr>\n",
       "    <tr>\n",
       "      <th>43</th>\n",
       "      <td>0.031478</td>\n",
       "      <td>gill_spacing_d</td>\n",
       "    </tr>\n",
       "    <tr>\n",
       "      <th>82</th>\n",
       "      <td>0.030867</td>\n",
       "      <td>stem_color_y</td>\n",
       "    </tr>\n",
       "    <tr>\n",
       "      <th>3</th>\n",
       "      <td>0.027692</td>\n",
       "      <td>cap_shape_b</td>\n",
       "    </tr>\n",
       "    <tr>\n",
       "      <th>5</th>\n",
       "      <td>0.026610</td>\n",
       "      <td>cap_shape_f</td>\n",
       "    </tr>\n",
       "    <tr>\n",
       "      <th>12</th>\n",
       "      <td>0.026585</td>\n",
       "      <td>cap_surface_g</td>\n",
       "    </tr>\n",
       "    <tr>\n",
       "      <th>4</th>\n",
       "      <td>0.023757</td>\n",
       "      <td>cap_shape_c</td>\n",
       "    </tr>\n",
       "    <tr>\n",
       "      <th>58</th>\n",
       "      <td>0.023727</td>\n",
       "      <td>stem_root_c</td>\n",
       "    </tr>\n",
       "    <tr>\n",
       "      <th>1</th>\n",
       "      <td>0.022056</td>\n",
       "      <td>stem_height</td>\n",
       "    </tr>\n",
       "    <tr>\n",
       "      <th>29</th>\n",
       "      <td>0.021141</td>\n",
       "      <td>cap_color_r</td>\n",
       "    </tr>\n",
       "    <tr>\n",
       "      <th>10</th>\n",
       "      <td>0.019768</td>\n",
       "      <td>cap_surface_d</td>\n",
       "    </tr>\n",
       "    <tr>\n",
       "      <th>16</th>\n",
       "      <td>0.019600</td>\n",
       "      <td>cap_surface_l</td>\n",
       "    </tr>\n",
       "    <tr>\n",
       "      <th>42</th>\n",
       "      <td>0.018577</td>\n",
       "      <td>gill_spacing_c</td>\n",
       "    </tr>\n",
       "    <tr>\n",
       "      <th>33</th>\n",
       "      <td>0.017736</td>\n",
       "      <td>does_bruise_or_bleed_f</td>\n",
       "    </tr>\n",
       "    <tr>\n",
       "      <th>48</th>\n",
       "      <td>0.017201</td>\n",
       "      <td>gill_color_g</td>\n",
       "    </tr>\n",
       "  </tbody>\n",
       "</table>\n",
       "</div>"
      ],
      "text/plain": [
       "    importance                 feature\n",
       "55    0.062380            gill_color_w\n",
       "39    0.044784       gill_attachment_p\n",
       "81    0.041570            stem_color_w\n",
       "38    0.039922       gill_attachment_f\n",
       "60    0.037541             stem_root_r\n",
       "17    0.031862           cap_surface_s\n",
       "43    0.031478          gill_spacing_d\n",
       "82    0.030867            stem_color_y\n",
       "3     0.027692             cap_shape_b\n",
       "5     0.026610             cap_shape_f\n",
       "12    0.026585           cap_surface_g\n",
       "4     0.023757             cap_shape_c\n",
       "58    0.023727             stem_root_c\n",
       "1     0.022056             stem_height\n",
       "29    0.021141             cap_color_r\n",
       "10    0.019768           cap_surface_d\n",
       "16    0.019600           cap_surface_l\n",
       "42    0.018577          gill_spacing_c\n",
       "33    0.017736  does_bruise_or_bleed_f\n",
       "48    0.017201            gill_color_g"
      ]
     },
     "execution_count": 48,
     "metadata": {},
     "output_type": "execute_result"
    }
   ],
   "source": [
    "fi = pd.DataFrame(model.feature_importances_, columns=['importance'])\n",
    "fi['feature'] = X.columns[fi.index]\n",
    "fi.sort_values(by='importance', ascending=False)[:20]"
   ]
  },
  {
   "cell_type": "code",
   "execution_count": 102,
   "id": "927f37d1-3a53-4b52-ac08-aeb1abb71a23",
   "metadata": {},
   "outputs": [
    {
     "data": {
      "text/plain": [
       "array([False,  True])"
      ]
     },
     "execution_count": 102,
     "metadata": {},
     "output_type": "execute_result"
    }
   ],
   "source": []
  },
  {
   "cell_type": "code",
   "execution_count": 98,
   "id": "4b4336d1-75c2-42aa-ba00-bd10b33ca68b",
   "metadata": {},
   "outputs": [
    {
     "data": {
      "text/plain": [
       "0    \n",
       "True     10212\n",
       "False     8109\n",
       "Name: count, dtype: int64"
      ]
     },
     "execution_count": 98,
     "metadata": {},
     "output_type": "execute_result"
    }
   ],
   "source": [
    "y_pred = model.predict(X_test)\n",
    "pd.DataFrame(y_pred).value_counts()"
   ]
  },
  {
   "cell_type": "code",
   "execution_count": 99,
   "id": "6bc0638d-43fd-48a3-82df-2c9133aada55",
   "metadata": {},
   "outputs": [
    {
     "name": "stdout",
     "output_type": "stream",
     "text": [
      "Accuracy: 0.9999454178265379\n",
      "Precision: 1.0\n",
      "Recall: 0.9999020855772055\n",
      "F2: 0.999921666927777\n"
     ]
    }
   ],
   "source": [
    "print(f\"Accuracy: {accuracy_score(y_test, y_pred)}\")\n",
    "print(f\"Precision: {precision_score(y_test, y_pred, zero_division=1)}\")\n",
    "print(f\"Recall: {recall_score(y_test, y_pred, zero_division=1)}\")\n",
    "print(f\"F2: {fbeta_score(y_test, y_pred, beta=2, zero_division=1)}\")"
   ]
  },
  {
   "cell_type": "code",
   "execution_count": null,
   "id": "6ff56cd4-e734-4c1b-89df-a32c55a2dff1",
   "metadata": {},
   "outputs": [],
   "source": []
  }
 ],
 "metadata": {
  "kernelspec": {
   "display_name": "Python 3 (ipykernel)",
   "language": "python",
   "name": "python3"
  },
  "language_info": {
   "codemirror_mode": {
    "name": "ipython",
    "version": 3
   },
   "file_extension": ".py",
   "mimetype": "text/x-python",
   "name": "python",
   "nbconvert_exporter": "python",
   "pygments_lexer": "ipython3",
   "version": "3.10.13"
  },
  "widgets": {
   "application/vnd.jupyter.widget-state+json": {
    "state": {},
    "version_major": 2,
    "version_minor": 0
   }
  }
 },
 "nbformat": 4,
 "nbformat_minor": 5
}
